{
 "cells": [
  {
   "cell_type": "code",
   "execution_count": 2,
   "metadata": {},
   "outputs": [],
   "source": [
    "import aiohttp\n",
    "\n",
    "async def getToken(username, password):\n",
    "    keyurl = \"http://localhost:33001/oauth/login3\"\n",
    "    async with aiohttp.ClientSession() as session:\n",
    "        async with session.get(keyurl) as resp:\n",
    "            # print(resp.status)\n",
    "            keyJson = await resp.json()\n",
    "            # print(keyJson)\n",
    "\n",
    "        payload = {\"key\": keyJson[\"key\"], \"username\": username, \"password\": password}\n",
    "        async with session.post(keyurl, json=payload) as resp:\n",
    "            # print(resp.status)\n",
    "            tokenJson = await resp.json()\n",
    "            # print(tokenJson)\n",
    "    return tokenJson.get(\"token\", None)\n",
    "\n",
    "           \n",
    "\n",
    "def query(q, token):\n",
    "    async def post(variables):\n",
    "        gqlurl = \"http://localhost:33001/api/gql\"\n",
    "        payload = {\"query\": q, \"variables\": variables}\n",
    "        # headers = {\"Authorization\": f\"Bearer {token}\"}\n",
    "        cookies = {'authorization': token}\n",
    "\n",
    "        async with aiohttp.ClientSession() as session:\n",
    "            # print(headers, cookies)\n",
    "            async with session.post(gqlurl, json=payload, cookies=cookies) as resp:\n",
    "                # print(resp.status)\n",
    "                if resp.status != 200:\n",
    "                    text = await resp.text()\n",
    "                    print(text)\n",
    "                    return text\n",
    "\n",
    "                else:\n",
    "                    response = await resp.json()\n",
    "                    return response\n",
    "\n",
    "    return post"
   ]
  },
  {
   "cell_type": "code",
   "execution_count": 12,
   "metadata": {},
   "outputs": [],
   "source": [
    "from itertools import product\n",
    "from functools import reduce\n",
    "\n",
    "def enumerateAttrs(attrs):\n",
    "    for key, value in attrs.items():\n",
    "        names = value.split(\".\")\n",
    "        name = names[0]\n",
    "        yield key, name\n",
    "\n",
    " \n",
    "\n",
    "def flattenList(inList, outItem, attrs):\n",
    "    for item in inList:\n",
    "        assert isinstance(item, dict), f\"in list only dicts are expected\"\n",
    "        for row in flatten(item, outItem, attrs):\n",
    "            # print(\"flatList\", row)\n",
    "            yield row\n",
    "\n",
    "           \n",
    "\n",
    "def flattenDict(inDict, outItem, attrs):\n",
    "    result = {**outItem}\n",
    "    # print(\"flatDict.result\", result)\n",
    "    complexAttrs = []\n",
    "    for key, value in enumerateAttrs(attrs):\n",
    "        attributeValue = inDict.get(value, None)\n",
    "        if isinstance(attributeValue, list):\n",
    "            complexAttrs.append((key, value))\n",
    "        elif isinstance(attributeValue, dict):\n",
    "            complexAttrs.append((key, value))\n",
    "        else:\n",
    "            result[key] = attributeValue\n",
    "    lists = []\n",
    "\n",
    "    for key, value in complexAttrs:\n",
    "        attributeValue = inDict.get(value, None)\n",
    "        prefix = f\"{value}.\"\n",
    "        prefixlen = len(prefix)\n",
    "        subAttrs = {key: value[prefixlen:] for key, value in attrs.items() if value.startswith(prefix)}\n",
    "        items = list(flatten(attributeValue, result, subAttrs))\n",
    "        lists.append(items)\n",
    "                   \n",
    "\n",
    "    if len(lists) == 0:\n",
    "        yield result\n",
    "\n",
    "    else:\n",
    "        for element in product(*lists):\n",
    "            reduced = reduce(lambda a, b: {**a, **b}, element, {})\n",
    "            yield reduced\n",
    "\n",
    "       \n",
    "\n",
    "def flatten(inData, outItem, attrs):\n",
    "    if isinstance(inData, dict):\n",
    "        for item in flattenDict(inData, outItem, attrs):\n",
    "            yield item\n",
    "\n",
    "    elif isinstance(inData, list):\n",
    "        for item in flattenList(inData, outItem, attrs):\n",
    "            yield item\n",
    "    else:\n",
    "        assert False, f\"Unexpected type on inData {inData}\""
   ]
  },
  {
   "cell_type": "code",
   "execution_count": 4,
   "metadata": {},
   "outputs": [],
   "source": [
    "username = \"john.newbie@world.com\"\n",
    "\n",
    "password = \"john.newbie@world.com\"\n",
    "\n",
    " \n",
    "\n",
    "queryStr = \"\"\"\n",
    "\n",
    "{\n",
    "\n",
    "  result: userPage(\n",
    "\n",
    "    where: {memberships: {group: {name: {_ilike: \"%uni%\"}}}}\n",
    "\n",
    "  ) {\n",
    "\n",
    "    id\n",
    "\n",
    "    email\n",
    "\n",
    "    name\n",
    "\n",
    "    surname\n",
    "\n",
    "   \n",
    "\n",
    "    presences {\n",
    "\n",
    "      event {\n",
    "\n",
    "        id\n",
    "\n",
    "        name\n",
    "\n",
    "        startdate\n",
    "\n",
    "        enddate\n",
    "\n",
    "        eventType {\n",
    "\n",
    "          id\n",
    "\n",
    "          name\n",
    "\n",
    "        }\n",
    "\n",
    "      }\n",
    "\n",
    "      presenceType {\n",
    "\n",
    "        id\n",
    "\n",
    "        name\n",
    "\n",
    "      }\n",
    "\n",
    "    }\n",
    "  }\n",
    "}\n",
    "\"\"\"\n",
    "\n",
    " \n",
    "\n",
    "mappers = {\n",
    "\n",
    "    \"id\": \"id\",\n",
    "    \"name\": \"name\",\n",
    "    \"surname\": \"surname\",\n",
    "    \"email\": \"email\",\n",
    "    \"eventid\": \"presences.event.id\",\n",
    "    \"eventname\": \"presences.event.name\",\n",
    "    \"startdate\": \"presences.event.startdate\",\n",
    "    \"enddate\": \"presences.event.enddate\",\n",
    "    \"eventTypeid\": \"presences.event.eventType.id\",\n",
    "    \"eventTypename\": \"presences.event.eventType.name\",\n",
    "    \"presenceTypeid\": \"presences.presenceType.id\",\n",
    "    \"presenceTypename\": \"presences.presenceType.name\"\n",
    "}\n",
    "\n",
    "\n",
    "async def fullPipe():\n",
    "    global pandasData\n",
    "    token = await getToken(username, password)\n",
    "    qfunc = query(queryStr, token)\n",
    "    response = await qfunc({})\n",
    "\n",
    "    data = response.get(\"data\", None)\n",
    "    result = data.get(\"result\", None)\n",
    "    # pandasData = toTable(flatData)\n",
    "    flatData = flatten(result, {}, mappers)\n",
    "    # print(list(flatData))\n",
    "    for item in flatData:\n",
    "        print(item)\n",
    "  \n",
    "    return flatData\n",
    "\n",
    " \n",
    "\n",
    "\n",
    "# print(list(flatData))"
   ]
  },
  {
   "cell_type": "code",
   "execution_count": 6,
   "metadata": {},
   "outputs": [
    {
     "name": "stdout",
     "output_type": "stream",
     "text": [
      "{'id': '89d1e724-ae0f-11ed-9bd8-0242ac110002', 'name': 'Jana', 'surname': 'Newbie', 'email': 'jana.newbie@world.com', 'eventid': '45b2df80-ae0f-11ed-9bd8-0242ac110002', 'eventname': 'Zkouška', 'startdate': '2023-04-19T08:00:00', 'enddate': '2023-04-19T09:00:00', 'eventTypeid': 'b87d3ff0-8fd4-11ed-a6d4-0242ac110002', 'eventTypename': 'Ostatní', 'presenceTypeid': '466398c6-a79c-11ed-b76e-0242ac110002', 'presenceTypename': 'Přítomen'}\n",
      "{'id': '89d1f34a-ae0f-11ed-9bd8-0242ac110002', 'name': 'Jolana', 'surname': 'Newbie', 'email': 'jolana.newbie@world.com', 'eventid': '45b2df80-ae0f-11ed-9bd8-0242ac110002', 'eventname': 'Zkouška', 'startdate': '2023-04-19T08:00:00', 'enddate': '2023-04-19T09:00:00', 'eventTypeid': 'b87d3ff0-8fd4-11ed-a6d4-0242ac110002', 'eventTypename': 'Ostatní', 'presenceTypeid': '466398c6-a79c-11ed-b76e-0242ac110002', 'presenceTypename': 'Přítomen'}\n",
      "{'id': '89d1f3cc-ae0f-11ed-9bd8-0242ac110002', 'name': 'Jitka', 'surname': 'Newbie', 'email': 'jitka.newbie@world.com', 'eventid': '45b2df80-ae0f-11ed-9bd8-0242ac110002', 'eventname': 'Zkouška', 'startdate': '2023-04-19T08:00:00', 'enddate': '2023-04-19T09:00:00', 'eventTypeid': 'b87d3ff0-8fd4-11ed-a6d4-0242ac110002', 'eventTypename': 'Ostatní', 'presenceTypeid': '466398c6-a79c-11ed-b76e-0242ac110002', 'presenceTypename': 'Přítomen'}\n",
      "{'id': '89d1f430-ae0f-11ed-9bd8-0242ac110002', 'name': 'Jaroslava', 'surname': 'Newbie', 'email': 'jaroslava.newbie@world.com', 'eventid': '45b2df80-ae0f-11ed-9bd8-0242ac110002', 'eventname': 'Zkouška', 'startdate': '2023-04-19T08:00:00', 'enddate': '2023-04-19T09:00:00', 'eventTypeid': 'b87d3ff0-8fd4-11ed-a6d4-0242ac110002', 'eventTypename': 'Ostatní', 'presenceTypeid': '466398c6-a79c-11ed-b76e-0242ac110002', 'presenceTypename': 'Přítomen'}\n",
      "{'id': '89d1f48a-ae0f-11ed-9bd8-0242ac110002', 'name': 'Lada', 'surname': 'Newbie', 'email': 'lada.newbie@world.com', 'eventid': '45b2df80-ae0f-11ed-9bd8-0242ac110002', 'eventname': 'Zkouška', 'startdate': '2023-04-19T08:00:00', 'enddate': '2023-04-19T09:00:00', 'eventTypeid': 'b87d3ff0-8fd4-11ed-a6d4-0242ac110002', 'eventTypename': 'Ostatní', 'presenceTypeid': '466398c6-a79c-11ed-b76e-0242ac110002', 'presenceTypename': 'Přítomen'}\n",
      "{'id': '89d1f4e4-ae0f-11ed-9bd8-0242ac110002', 'name': 'Ludmila', 'surname': 'Newbie', 'email': 'ludmila.newbie@world.com', 'eventid': '45b2df80-ae0f-11ed-9bd8-0242ac110002', 'eventname': 'Zkouška', 'startdate': '2023-04-19T08:00:00', 'enddate': '2023-04-19T09:00:00', 'eventTypeid': 'b87d3ff0-8fd4-11ed-a6d4-0242ac110002', 'eventTypename': 'Ostatní', 'presenceTypeid': '466398c6-a79c-11ed-b76e-0242ac110002', 'presenceTypename': 'Přítomen'}\n",
      "{'id': '89d1f534-ae0f-11ed-9bd8-0242ac110002', 'name': 'Lucie', 'surname': 'Newbie', 'email': 'lucie.newbie@world.com', 'eventid': '45b2df80-ae0f-11ed-9bd8-0242ac110002', 'eventname': 'Zkouška', 'startdate': '2023-04-19T08:00:00', 'enddate': '2023-04-19T09:00:00', 'eventTypeid': 'b87d3ff0-8fd4-11ed-a6d4-0242ac110002', 'eventTypename': 'Ostatní', 'presenceTypeid': '466398c6-a79c-11ed-b76e-0242ac110002', 'presenceTypename': 'Přítomen'}\n",
      "{'id': '89d1f58e-ae0f-11ed-9bd8-0242ac110002', 'name': 'Nola', 'surname': 'Newbie', 'email': 'nola.newbie@world.com', 'eventid': '45b2df80-ae0f-11ed-9bd8-0242ac110002', 'eventname': 'Zkouška', 'startdate': '2023-04-19T08:00:00', 'enddate': '2023-04-19T09:00:00', 'eventTypeid': 'b87d3ff0-8fd4-11ed-a6d4-0242ac110002', 'eventTypename': 'Ostatní', 'presenceTypeid': '466398c6-a79c-11ed-b76e-0242ac110002', 'presenceTypename': 'Přítomen'}\n",
      "{'id': '89d1f5de-ae0f-11ed-9bd8-0242ac110002', 'name': 'Neva', 'surname': 'Newbie', 'email': 'neva.newbie@world.com', 'eventid': '45b2df80-ae0f-11ed-9bd8-0242ac110002', 'eventname': 'Zkouška', 'startdate': '2023-04-19T08:00:00', 'enddate': '2023-04-19T09:00:00', 'eventTypeid': 'b87d3ff0-8fd4-11ed-a6d4-0242ac110002', 'eventTypename': 'Ostatní', 'presenceTypeid': '466398c6-a79c-11ed-b76e-0242ac110002', 'presenceTypename': 'Přítomen'}\n",
      "{'id': '89d1f638-ae0f-11ed-9bd8-0242ac110002', 'name': 'Nora', 'surname': 'Newbie', 'email': 'nora.newbie@world.com', 'eventid': '45b2df80-ae0f-11ed-9bd8-0242ac110002', 'eventname': 'Zkouška', 'startdate': '2023-04-19T08:00:00', 'enddate': '2023-04-19T09:00:00', 'eventTypeid': 'b87d3ff0-8fd4-11ed-a6d4-0242ac110002', 'eventTypename': 'Ostatní', 'presenceTypeid': '466398c6-a79c-11ed-b76e-0242ac110002', 'presenceTypename': 'Přítomen'}\n",
      "<generator object flatten at 0x000001C0A2EE3DF0>\n"
     ]
    }
   ],
   "source": [
    "result =await fullPipe()\n",
    "print(result)"
   ]
  },
  {
   "cell_type": "code",
   "execution_count": 83,
   "metadata": {},
   "outputs": [],
   "source": [
    "username = \"john.newbie@world.com\"\n",
    "\n",
    "password = \"john.newbie@world.com\"\n",
    "\n",
    " \n",
    "#ad where in publicationpage\n",
    "queryStr = \"\"\"\n",
    "query{\n",
    "  result: publicationPage{\n",
    "    id\n",
    "    name\n",
    "    publicationtype {\n",
    "      id\n",
    "      name\n",
    "\n",
    "    }\n",
    "    authors{\n",
    "      id\n",
    "      order\n",
    "      lastchange\n",
    "      share\n",
    "      valid\n",
    "      user{\n",
    "        id\n",
    "        name\n",
    "        surname\n",
    "        email\n",
    "      }\n",
    "    }\n",
    "    place\n",
    "    publishedDate\n",
    "    valid\n",
    "    reference\n",
    "    subjects {\n",
    "      id\n",
    "      name\n",
    "    }\n",
    "    \n",
    "  }\n",
    "  \n",
    "}\n",
    "\"\"\"\n",
    "\n",
    "mappers = {\n",
    "    \"id\": \"id\",\n",
    "    \"namePublication\": \"name\",\n",
    "    \"typePublication\": \"publicationtype.name\",\n",
    "    \"place\":\"place\",\n",
    "    \"publishedDate\":\"publishedDate\",\n",
    "    \"valid\":\"valid\",\n",
    "    \"reference\":\"reference\",\n",
    "    # \"authorName\":\"authors.user.name\",\n",
    "    # \"authorOrder\":\"authors.user.order\",\n",
    "    # \"authorContribute\":\"authors.user.share\"\n",
    "\n",
    "}\n",
    "\n",
    " "
   ]
  },
  {
   "cell_type": "code",
   "execution_count": 1,
   "metadata": {},
   "outputs": [],
   "source": [
    "async def fullPipe2():\n",
    "    token = await getToken(username, password)\n",
    "    qfunc = query(queryStr, token)\n",
    "    response = await qfunc({})\n",
    "\n",
    "    data = response.get(\"data\", None)\n",
    "    result = data.get(\"result\", None)\n",
    "    # pandasData = toTable(flatData)\n",
    "    flatData = flatten(result, {}, mappers)\n",
    "    # print(list(flatData))\n",
    "    for item in flatData:\n",
    "        print(item)\n",
    "    \n",
    "\n",
    "    return flatData"
   ]
  },
  {
   "cell_type": "code",
   "execution_count": 11,
   "metadata": {},
   "outputs": [
    {
     "name": "stdout",
     "output_type": "stream",
     "text": [
      "{'id': 'cb3c3978-e716-46ac-9a3b-bb8f9d806a46', 'namePublication': 'IT Technologie', 'place': 'Prague', 'publishedDate': '2023-04-24T00:00:00', 'valid': True, 'reference': 'https://google.com', 'typePublication': 'Článek J'}\n",
      "{'id': 'e8b1962f-5494-40cf-9bd6-b7d700dfbd8e', 'namePublication': 'IT Technologie II', 'place': 'Prague', 'publishedDate': '2023-04-24T00:00:00', 'valid': True, 'reference': 'https://google.com', 'typePublication': 'Článek J'}\n",
      "{'id': 'b5cf7f26-5652-4fb2-b930-ecc959c005f4', 'namePublication': 'IT Technologie III', 'place': 'Prague', 'publishedDate': '2023-04-24T00:00:00', 'valid': True, 'reference': 'https://google.com', 'typePublication': 'Článek J'}\n",
      "<generator object flatten at 0x000001C0A4AEB7D0>\n"
     ]
    }
   ],
   "source": [
    "result2 =await fullPipe2()\n",
    "print(result2)"
   ]
  },
  {
   "cell_type": "code",
   "execution_count": 2,
   "metadata": {},
   "outputs": [],
   "source": [
    "import json"
   ]
  },
  {
   "cell_type": "code",
   "execution_count": 3,
   "metadata": {},
   "outputs": [],
   "source": [
    "\n",
    "with open('fakepublikace.json', 'r') as file:\n",
    "    publications = json.load(file)"
   ]
  },
  {
   "cell_type": "code",
   "execution_count": 4,
   "metadata": {},
   "outputs": [],
   "source": [
    "from collections import defaultdict"
   ]
  },
  {
   "cell_type": "code",
   "execution_count": 7,
   "metadata": {},
   "outputs": [
    {
     "name": "stdout",
     "output_type": "stream",
     "text": [
      "{'Tai': {'authorTotalContribute': 2.1500000000000004, 'authorTotalPublications': 5, 'authorAverageContribute': 0.43000000000000005}, 'Messi': {'authorTotalContribute': 2.1399999999999997, 'authorTotalPublications': 5, 'authorAverageContribute': 0.42799999999999994}, 'Emma': {'authorTotalContribute': 3.96, 'authorTotalPublications': 9, 'authorAverageContribute': 0.44}, 'David': {'authorTotalContribute': 2.07, 'authorTotalPublications': 7, 'authorAverageContribute': 0.2957142857142857}, 'Lam': {'authorTotalContribute': 6.9799999999999995, 'authorTotalPublications': 13, 'authorAverageContribute': 0.5369230769230768}, 'Jack': {'authorTotalContribute': 2.54, 'authorTotalPublications': 8, 'authorAverageContribute': 0.3175}, 'Bob': {'authorTotalContribute': 4.81, 'authorTotalPublications': 10, 'authorAverageContribute': 0.481}, 'Hiep': {'authorTotalContribute': 5.3500000000000005, 'authorTotalPublications': 8, 'authorAverageContribute': 0.6687500000000001}}\n"
     ]
    }
   ],
   "source": [
    "author_stats = defaultdict(lambda: {\"authorTotalContribute\": 0, \"authorTotalPublications\": 0})\n",
    "\n",
    "for publication in publications:\n",
    "    for author in publication[\"authors\"]:\n",
    "        author_name = author[\"user\"][\"name\"]\n",
    "        share = author[\"share\"]\n",
    "        author_stats[author_name][\"authorTotalContribute\"] += share\n",
    "        author_stats[author_name][\"authorTotalPublications\"] += 1\n",
    "\n",
    "# Calculate average contribute for each author\n",
    "for author_name, stats in author_stats.items():\n",
    "    author_total_contribute = stats[\"authorTotalContribute\"]\n",
    "    author_total_publications = stats[\"authorTotalPublications\"]\n",
    "    if author_total_publications > 0:\n",
    "        stats[\"authorAverageContribute\"] = author_total_contribute / author_total_publications\n",
    "    else:\n",
    "        stats[\"authorAverageContribute\"] = 0\n",
    "\n",
    "print(dict(author_stats))"
   ]
  },
  {
   "cell_type": "code",
   "execution_count": 8,
   "metadata": {},
   "outputs": [
    {
     "name": "stdout",
     "output_type": "stream",
     "text": [
      "{'Tai': {'authorTotalContribute': 2.1500000000000004, 'authorTotalPublications': 5, 'authorAverageContribute': 0.43000000000000005}, 'Messi': {'authorTotalContribute': 2.1399999999999997, 'authorTotalPublications': 5, 'authorAverageContribute': 0.42799999999999994}, 'Emma': {'authorTotalContribute': 3.96, 'authorTotalPublications': 9, 'authorAverageContribute': 0.44}, 'David': {'authorTotalContribute': 2.07, 'authorTotalPublications': 7, 'authorAverageContribute': 0.2957142857142857}, 'Lam': {'authorTotalContribute': 6.9799999999999995, 'authorTotalPublications': 13, 'authorAverageContribute': 0.5369230769230768}, 'Jack': {'authorTotalContribute': 2.54, 'authorTotalPublications': 8, 'authorAverageContribute': 0.3175}, 'Bob': {'authorTotalContribute': 4.81, 'authorTotalPublications': 10, 'authorAverageContribute': 0.481}, 'Hiep': {'authorTotalContribute': 5.3500000000000005, 'authorTotalPublications': 8, 'authorAverageContribute': 0.6687500000000001}}\n"
     ]
    }
   ],
   "source": [
    "author_stats=dict(author_stats)\n",
    "print(author_stats)"
   ]
  },
  {
   "cell_type": "code",
   "execution_count": 9,
   "metadata": {},
   "outputs": [],
   "source": [
    "mappersF = {\n",
    "    \"id\": \"id\",\n",
    "    \"namePublication\": \"name\",\n",
    "    \"typePublication\": \"publicationtype.name\",\n",
    "    \"authorsCounts\":\"authorsCounts\",\n",
    "    \"place\":\"place\",\n",
    "    \"publishedDate\":\"publishedDate\",\n",
    "    \"valid\":\"valid\",\n",
    "    \"reference\":\"reference\",\n",
    "    \"authorName\":\"authors.user.name\",\n",
    "    \"authorOrder\":\"authors.order\",\n",
    "    \"authorContribute\":\"authors.share\"\n",
    "\n",
    "}"
   ]
  },
  {
   "cell_type": "code",
   "execution_count": 10,
   "metadata": {},
   "outputs": [],
   "source": [
    "async def fullPipeF():\n",
    "\n",
    "    result = publications\n",
    "    # flatData = flatten(resultMapped, {}, mappersF)\n",
    "    \n",
    "\n",
    "    resultMapped = list(map(lambda project: {**project, \"authorsCounts\": len(project.get(\"authors\", []))}, result))\n",
    "    # print(resultMapped)\n",
    "    flatData = flatten(resultMapped, {}, mappersF)\n",
    "    dataflat=list(flatData)\n",
    "    for item in dataflat:\n",
    "       author_name = item[\"authorName\"]\n",
    "       if author_name in author_stats:\n",
    "         item.update(author_stats[author_name])\n",
    "\n",
    "\n",
    "    # print(dataflat)\n",
    "\n",
    "    seen = set()\n",
    "    data_filtr_duplicated = []\n",
    "    for item in dataflat:\n",
    "        # Convert the dict item to a tuple of its (key, value) pairs\n",
    "        item_tuple = tuple(item.items())  \n",
    "        if item_tuple not in seen:\n",
    "            seen.add(item_tuple)\n",
    "            data_filtr_duplicated.append(item)\n",
    "\n",
    "    filtered_data = [item for item in data_filtr_duplicated if item.get(\"namePublication\") is not None]\n",
    "\n",
    "    with open('fullpipefake.json', 'w', encoding='utf-8') as file:\n",
    "        json.dump(filtered_data, file, ensure_ascii=False, indent=4)\n",
    "\n",
    "    # with open('dataflatcheck.json', 'w', encoding='utf-8') as file:\n",
    "    #     json.dump(dataflat, file, ensure_ascii=False, indent=4)\n",
    "     \n",
    "    for item in flatData:\n",
    "        print(item)\n",
    "\n",
    "    return flatData"
   ]
  },
  {
   "cell_type": "code",
   "execution_count": 13,
   "metadata": {},
   "outputs": [],
   "source": [
    "resultF =await fullPipeF()\n"
   ]
  },
  {
   "cell_type": "code",
   "execution_count": 137,
   "metadata": {},
   "outputs": [],
   "source": [
    "resultF =await fullPipeF2()"
   ]
  },
  {
   "cell_type": "code",
   "execution_count": 42,
   "metadata": {},
   "outputs": [
    {
     "name": "stdout",
     "output_type": "stream",
     "text": [
      "<class 'generator'>\n"
     ]
    }
   ],
   "source": [
    "print(type(resultF))"
   ]
  },
  {
   "cell_type": "code",
   "execution_count": 43,
   "metadata": {},
   "outputs": [
    {
     "name": "stdout",
     "output_type": "stream",
     "text": [
      "[]\n"
     ]
    }
   ],
   "source": [
    "print(list(resultF))"
   ]
  }
 ],
 "metadata": {
  "kernelspec": {
   "display_name": "Python 3",
   "language": "python",
   "name": "python3"
  },
  "language_info": {
   "codemirror_mode": {
    "name": "ipython",
    "version": 3
   },
   "file_extension": ".py",
   "mimetype": "text/x-python",
   "name": "python",
   "nbconvert_exporter": "python",
   "pygments_lexer": "ipython3",
   "version": "3.10.3"
  }
 },
 "nbformat": 4,
 "nbformat_minor": 2
}
